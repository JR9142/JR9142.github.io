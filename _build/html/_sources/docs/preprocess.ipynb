{
 "cells": [
  {
   "cell_type": "markdown",
   "id": "3b46ee32",
   "metadata": {},
   "source": [
    "# Data preprocessing TO DO: filter op variabelen die wij interessant vinden."
   ]
  },
  {
   "cell_type": "markdown",
   "id": "24109071",
   "metadata": {},
   "source": [
    "## Datasets kiezen\n",
    "Wij hebben drie datasets gekozen om te vergelijken. Als eerste hebben wij de dataset \"Police-recorded offences by offence category\""
   ]
  },
  {
   "cell_type": "markdown",
   "id": "54582175-0319-458b-b3f9-b6c8ef415196",
   "metadata": {},
   "source": [
    "Het data preprocessen gebeurde in een aantal stappen. Wij hebben hier python code gebruikt met de pandas library.\n",
    "\n",
    "1. De database \"Police-recorded offences by offence category\" van de EU hebben wij omgevormd zodat iedere soort misdaad een eigen kolom kreeg.\n",
    "2. Wij hebben de andere twee databases, \"Economy & Growth\" en \"World Bank, Poverty and Inequality Platform. (Gini Index)\" omgevormd van 'wide' naar 'long-format'.\n",
    "3. Wij hebben deze laatste twee databases gefilterd op jaar en land, zodat alleen die jaren en landen die voor komen in de EU database over blijven."
   ]
  },
  {
   "cell_type": "markdown",
   "id": "a624fb77",
   "metadata": {},
   "source": [
    "## Variabelen"
   ]
  },
  {
   "cell_type": "code",
   "execution_count": 26,
   "id": "e180382e",
   "metadata": {},
   "outputs": [],
   "source": [
    "import pandas as pd\n",
    "######################################################\n",
    "# Converting wide-format datasets to long-format ones#\n",
    "######################################################\n",
    "\n",
    "def convert_wide_to_long(file_path, skiprows=4, id_vars=None, var_name=\"Year\", value_name=\"Value\"):\n",
    "    # Load the CSV file\n",
    "    df = pd.read_csv(file_path, skiprows=skiprows)\n",
    "    \n",
    "    # Automatically determine id_vars if not provided\n",
    "    if id_vars is None:\n",
    "        id_vars = df.columns[:4]  # First 4 columns are IDs\n",
    "    \n",
    "    # Melt the DataFrame\n",
    "    df_long = pd.melt(df, id_vars=id_vars, var_name=var_name, value_name=value_name)\n",
    "    \n",
    "    # Optionally drop rows with missing values in the value column\n",
    "    # df_long.dropna(subset=[value_name], inplace=True)\n",
    "\n",
    "    return df_long\n",
    "\n",
    "# Convert economy csv to long format\n",
    "file_path1 = \"og_csv_files/API_3_DS2_en_csv_v2_390106.csv\"\n",
    "world_bank_long_format = convert_wide_to_long(file_path1)\n",
    "\n",
    "# convert GINI csv to long format\n",
    "filepath2 = \"og_csv_files/API_SI.POV.GINI_DS2_en_csv_v2_2566.csv\"\n",
    "gini_long_format = convert_wide_to_long(filepath2)\n",
    "\n",
    "#save as new files to [path]\n",
    "#output_csv_path1 = \"world bank long format2.csv\"\n",
    "#output_csv_path2 = \"gini long2.csv\"\n",
    "#df_long1.to_csv(output_csv_path1, index=False)\n",
    "#df_long2.to_csv(output_csv_path2, index=False)\n",
    "\n",
    "###############################################################################\n",
    "# EU dataset pivot so that the different types of crime get their own columns #\n",
    "###############################################################################\n",
    "\n",
    "# Load the dataset\n",
    "eu_df = pd.read_csv(\"og_csv_files/estat_crim_off_cat_filtered_en.csv\")\n",
    "\n",
    "# Pivot the data so that all types of crime have their own column\n",
    "df_pivot = eu_df.pivot_table(\n",
    "    index=[\"Geopolitical entity (reporting)\", \"TIME_PERIOD\"],\n",
    "    columns=\"International classification of crime for statistical purposes (ICCS)\",\n",
    "    values=\"OBS_VALUE\"\n",
    ").reset_index()\n",
    "\n",
    "# save to new file\n",
    "df_pivot.to_csv(\"europe_crime_definitive.csv\")\n",
    "\n"
   ]
  },
  {
   "cell_type": "code",
   "execution_count": 27,
   "id": "5777878e-d240-4c5e-81f2-b0431f20fa22",
   "metadata": {},
   "outputs": [],
   "source": [
    "import pandas as pd\n",
    "\n",
    "########################################################################\n",
    "#Sort economy and gini to only use countries also present in eu dataset#\n",
    "########################################################################\n",
    "\n",
    "def filter_to_european_countries(crime_file, gini_file, world_bank_file):\n",
    "    \"\"\"\n",
    "    Filters the gini and world bank datasets to include only countries present in the european crime dataset.\n",
    "\n",
    "    Parameters:\n",
    "        crime_file (str): Path to 'europe_crime_definitive.csv'\n",
    "        gini_file (pd.df): Gini file in long format\n",
    "        world_bank_file (pd.df): World bank file in long format\n",
    "\n",
    "    Returns:\n",
    "        Tuple of filtered DataFrames: (filtered_gini_df, filtered_world_bank_df)\n",
    "    \"\"\"\n",
    "    # Load the crime dataset\n",
    "    crime_df = pd.read_csv(crime_file)\n",
    "    \n",
    "    # Extract unique country names\n",
    "    european_countries = crime_df['Geopolitical entity (reporting)'].unique()\n",
    "    \n",
    "    # Load GINI and World Bank datasets\n",
    "    gini_df = gini_file\n",
    "    world_bank_df = world_bank_file\n",
    "    \n",
    "    # Filter GINI and World Bank datasets to only include European countries\n",
    "    filtered_gini_df = gini_df[gini_df['Country Name'].isin(european_countries)].copy()\n",
    "    filtered_world_bank_df = world_bank_df[world_bank_df['Country Name'].isin(european_countries)].copy()\n",
    "    \n",
    "    return filtered_gini_df, filtered_world_bank_df\n",
    "\n",
    "gini_filtered, world_bank_filtered = filter_to_european_countries('europe_crime_definitive.csv', gini_long_format, world_bank_long_format)"
   ]
  },
  {
   "cell_type": "code",
   "execution_count": 28,
   "id": "79452586",
   "metadata": {},
   "outputs": [],
   "source": [
    "#########################################################\n",
    "#Filter by the timespan of the EU database, 2008 onwards#\n",
    "#########################################################\n",
    "def filter_years_from_2008(gini_df, world_bank_df, start_year=2008):\n",
    "    \"\"\"\n",
    "    Filters the GINI and World Bank DataFrames to include only data from start_year onward.\n",
    "\n",
    "    Parameters:\n",
    "        gini_df (pd.DataFrame): Filtered GINI DataFrame.\n",
    "        world_bank_df (pd.DataFrame): Filtered World Bank DataFrame.\n",
    "        start_year (int): The earliest year to include (default is 2008).\n",
    "\n",
    "    Returns:\n",
    "        Tuple of DataFrames filtered by year: (gini_filtered_by_year, world_bank_filtered_by_year)\n",
    "    \"\"\"\n",
    "    # Make the string entries of the year column be interpreted as numbers\n",
    "    gini_df['Year'] = pd.to_numeric(gini_df['Year'], errors='coerce')\n",
    "    world_bank_df['Year'] = pd.to_numeric(world_bank_df['Year'], errors='coerce')\n",
    "\n",
    "    # Filter out all data with a year not 2008 or onwards\n",
    "    gini_filtered_by_year = gini_df[gini_df['Year'] >= start_year].copy()\n",
    "    world_bank_filtered_by_year = world_bank_df[world_bank_df['Year'] >= start_year].copy()\n",
    "    \n",
    "    return gini_filtered_by_year, world_bank_filtered_by_year\n",
    "\n",
    "gini_definitive, world_bank_definitive = filter_years_from_2008(gini_filtered, world_bank_filtered)\n",
    "\n",
    "# Save the final results\n",
    "gini_definitive.to_csv('gini_definitive.csv')\n",
    "world_bank_definitive.to_csv('world_bank_definitive.csv')\n"
   ]
  }
 ],
 "metadata": {
  "celltoolbar": "Tags",
  "kernelspec": {
   "display_name": "jupyterbook",
   "language": "python",
   "name": "python3"
  },
  "language_info": {
   "codemirror_mode": {
    "name": "ipython",
    "version": 3
   },
   "file_extension": ".py",
   "mimetype": "text/x-python",
   "name": "python",
   "nbconvert_exporter": "python",
   "pygments_lexer": "ipython3",
   "version": "3.10.16"
  }
 },
 "nbformat": 4,
 "nbformat_minor": 5
}
